{
 "cells": [
  {
   "cell_type": "code",
   "execution_count": 1,
   "metadata": {},
   "outputs": [],
   "source": [
    "import numpy as np\n",
    "from sklearn.linear_model import LogisticRegression\n",
    "from sklearn.naive_bayes import MultinomialNB\n",
    "from sklearn.svm import SVC\n",
    "import nltk\n",
    "import spacy\n",
    "from time import time\n",
    "from tqdm import tqdm\n",
    "from pprint import pprint\n",
    "import pandas as pd\n",
    "import random\n",
    "import pickle\n",
    "import os"
   ]
  },
  {
   "cell_type": "code",
   "execution_count": 2,
   "metadata": {},
   "outputs": [],
   "source": [
    "nlp = spacy.load('en_core_web_sm')"
   ]
  },
  {
   "cell_type": "code",
   "execution_count": 3,
   "metadata": {},
   "outputs": [],
   "source": [
    "def chargrams(hl, body, size):\n",
    "    chargram_hits = 0\n",
    "    for i in range(len(hl.text)-size+1):\n",
    "        chgram = body.text[i:i+size]\n",
    "        if chgram in body.text:\n",
    "            #print(chgram)\n",
    "            chargram_hits += 1\n",
    "    return chargram_hits\n",
    "\n",
    "def ngrams(hl, body, size):\n",
    "    ngram_hits = 0\n",
    "    for i in range(len(hl.doc)-size+1):\n",
    "        skip_flag = False #Do not make ngrams if punctuations occur\n",
    "        for k in range(i, i+size): \n",
    "            if hl.doc[k].is_punct:\n",
    "                skip_flag = True\n",
    "        if skip_flag:\n",
    "            continue\n",
    "        ngram = hl.doc[i:i+size]\n",
    "        if ngram.text in body.text:\n",
    "            #print(ngram)\n",
    "            ngram_hits += 1\n",
    "    return ngram_hits\n",
    "\n",
    "def clean(text):\n",
    "    return ''.join(x.lower_ for x in text)\n",
    "\n",
    "def jaccard_sim(hline, body):\n",
    "    hset = set(clean(hline))\n",
    "    bset = set(clean(body))\n",
    "    if len(bset) == 0.0: return 0.0\n",
    "    else:\n",
    "        return len(hset.intersection(bset))/len(hset.union(bset))\n",
    "\n",
    "def make_features(X):\n",
    "    fvecs = []\n",
    "    for i, h, b in tqdm(X):\n",
    "        fvec = []\n",
    "        fvec.append(jaccard_sim(h, b))\n",
    "        fvec.append(ngrams(h, b, 2))\n",
    "        fvec.append(ngrams(h, b, 3))\n",
    "        fvec.append(ngrams(h, b, 4))\n",
    "        fvec.append(ngrams(h, b, 5))\n",
    "        fvec.append(chargrams(h, b, 4))\n",
    "        fvec.append(chargrams(h, b, 8))\n",
    "        fvec.append(chargrams(h, b, 16))\n",
    "        fvec.append(chargrams(h, b, 32))\n",
    "        assert len(fvec) == 9\n",
    "        fvecs.append(fvec)\n",
    "    return np.array(fvecs)"
   ]
  },
  {
   "cell_type": "code",
   "execution_count": 4,
   "metadata": {},
   "outputs": [],
   "source": [
    "headline = nlp('Lorem ipsum dolor sit amet')\n",
    "body = nlp('Lorem ipsum dolor sit amet, consectetuer adipiscing elit. Aenean commodo ligula eget dolor.')\n",
    "body2 = nlp('Lorem ipsum amidolor sit amet, consetuer adiping elit. eget dolor.')"
   ]
  }
 ],
 "metadata": {
  "kernelspec": {
   "display_name": "Python 3",
   "language": "python",
   "name": "python3"
  },
  "language_info": {
   "codemirror_mode": {
    "name": "ipython",
    "version": 3
   },
   "file_extension": ".py",
   "mimetype": "text/x-python",
   "name": "python",
   "nbconvert_exporter": "python",
   "pygments_lexer": "ipython3",
   "version": "3.5.2"
  }
 },
 "nbformat": 4,
 "nbformat_minor": 2
}
